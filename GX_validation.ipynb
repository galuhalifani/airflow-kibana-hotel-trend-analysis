{
 "cells": [
  {
   "cell_type": "markdown",
   "id": "34d40b20",
   "metadata": {},
   "source": [
    "## Import Libraries"
   ]
  },
  {
   "cell_type": "code",
   "execution_count": null,
   "id": "cc2e0423",
   "metadata": {},
   "outputs": [],
   "source": [
    "# import libraries\n",
    "\n",
    "import great_expectations as ge\n",
    "from great_expectations.data_context import FileDataContext\n",
    "import pandas as pd\n",
    "import numpy as np"
   ]
  },
  {
   "cell_type": "code",
   "execution_count": 65,
   "id": "484b2bff",
   "metadata": {},
   "outputs": [],
   "source": [
    "# create data context\n",
    "\n",
    "project_root_dir = './'\n",
    "context = FileDataContext.create(project_root_dir=project_root_dir)\n",
    "\n",
    "datasource_name = 'hotel_bookings_data'\n",
    "datasource = context.sources.add_pandas(datasource_name)"
   ]
  },
  {
   "cell_type": "code",
   "execution_count": 66,
   "id": "a1e6690c",
   "metadata": {},
   "outputs": [],
   "source": [
    "def add_unique_column(path_to_data):\n",
    "    data = pd.read_csv(path_to_data)\n",
    "    # create a unique identifier for each row that represents booking based on record_number in each hotel_type and arrival_date\n",
    "    data['uid'] = data['hotel_type'] + \"_\" + data['arrival_date'] + data['record_number'].astype(str)\n",
    "    modified_data_path = f'{project_root_dir}/P2M3_galuh_alifani_data_clean_with_uid.csv'\n",
    "    data.to_csv(modified_data_path, index=False)\n",
    "    return modified_data_path"
   ]
  },
  {
   "cell_type": "code",
   "execution_count": null,
   "id": "ef40b84b",
   "metadata": {},
   "outputs": [],
   "source": [
    "asset_name = 'hotel_bookings_asset_gx'\n",
    "path_to_data = './dags/data_clean.csv'\n",
    "modified_data_path = add_unique_column(path_to_data)\n",
    "asset = datasource.add_csv_asset(asset_name, filepath_or_buffer=modified_data_path)\n",
    "\n",
    "# create batch request\n",
    "batch_request = asset.build_batch_request()"
   ]
  },
  {
   "cell_type": "markdown",
   "id": "87a145bd",
   "metadata": {},
   "source": [
    "## Expectations Suite Setup"
   ]
  },
  {
   "cell_type": "code",
   "execution_count": 68,
   "id": "f10a8c04",
   "metadata": {},
   "outputs": [
    {
     "data": {
      "application/vnd.jupyter.widget-view+json": {
       "model_id": "9c41ee2aa93b47d6a800dce34693f9ef",
       "version_major": 2,
       "version_minor": 0
      },
      "text/plain": [
       "Calculating Metrics:   0%|          | 0/1 [00:00<?, ?it/s]"
      ]
     },
     "metadata": {},
     "output_type": "display_data"
    },
    {
     "data": {
      "text/html": [
       "<div>\n",
       "<style scoped>\n",
       "    .dataframe tbody tr th:only-of-type {\n",
       "        vertical-align: middle;\n",
       "    }\n",
       "\n",
       "    .dataframe tbody tr th {\n",
       "        vertical-align: top;\n",
       "    }\n",
       "\n",
       "    .dataframe thead th {\n",
       "        text-align: right;\n",
       "    }\n",
       "</style>\n",
       "<table border=\"1\" class=\"dataframe\">\n",
       "  <thead>\n",
       "    <tr style=\"text-align: right;\">\n",
       "      <th></th>\n",
       "      <th>is_canceled</th>\n",
       "      <th>lead_time</th>\n",
       "      <th>arrival_date_year</th>\n",
       "      <th>arrival_date_month</th>\n",
       "      <th>arrival_date_week_number</th>\n",
       "      <th>arrival_date_day_of_month</th>\n",
       "      <th>stays_in_weekend_nights</th>\n",
       "      <th>stays_in_week_nights</th>\n",
       "      <th>adults</th>\n",
       "      <th>children</th>\n",
       "      <th>...</th>\n",
       "      <th>reservation_status_date</th>\n",
       "      <th>hotel_type</th>\n",
       "      <th>record_number</th>\n",
       "      <th>arrival_date</th>\n",
       "      <th>is_family</th>\n",
       "      <th>total_stay_nights</th>\n",
       "      <th>total_rate</th>\n",
       "      <th>is_room_type_changed</th>\n",
       "      <th>total_guests</th>\n",
       "      <th>uid</th>\n",
       "    </tr>\n",
       "  </thead>\n",
       "  <tbody>\n",
       "    <tr>\n",
       "      <th>0</th>\n",
       "      <td>0</td>\n",
       "      <td>7</td>\n",
       "      <td>2015</td>\n",
       "      <td>7</td>\n",
       "      <td>27</td>\n",
       "      <td>1</td>\n",
       "      <td>0</td>\n",
       "      <td>1</td>\n",
       "      <td>1</td>\n",
       "      <td>0</td>\n",
       "      <td>...</td>\n",
       "      <td>2015-07-02</td>\n",
       "      <td>resort_hotel</td>\n",
       "      <td>3</td>\n",
       "      <td>2015-07-01</td>\n",
       "      <td>0</td>\n",
       "      <td>1</td>\n",
       "      <td>75.0</td>\n",
       "      <td>1</td>\n",
       "      <td>1</td>\n",
       "      <td>resort_hotel_2015-07-013</td>\n",
       "    </tr>\n",
       "    <tr>\n",
       "      <th>1</th>\n",
       "      <td>0</td>\n",
       "      <td>13</td>\n",
       "      <td>2015</td>\n",
       "      <td>7</td>\n",
       "      <td>27</td>\n",
       "      <td>1</td>\n",
       "      <td>0</td>\n",
       "      <td>1</td>\n",
       "      <td>1</td>\n",
       "      <td>0</td>\n",
       "      <td>...</td>\n",
       "      <td>2015-07-02</td>\n",
       "      <td>resort_hotel</td>\n",
       "      <td>4</td>\n",
       "      <td>2015-07-01</td>\n",
       "      <td>0</td>\n",
       "      <td>1</td>\n",
       "      <td>75.0</td>\n",
       "      <td>0</td>\n",
       "      <td>1</td>\n",
       "      <td>resort_hotel_2015-07-014</td>\n",
       "    </tr>\n",
       "    <tr>\n",
       "      <th>2</th>\n",
       "      <td>0</td>\n",
       "      <td>14</td>\n",
       "      <td>2015</td>\n",
       "      <td>7</td>\n",
       "      <td>27</td>\n",
       "      <td>1</td>\n",
       "      <td>0</td>\n",
       "      <td>2</td>\n",
       "      <td>2</td>\n",
       "      <td>0</td>\n",
       "      <td>...</td>\n",
       "      <td>2015-07-03</td>\n",
       "      <td>resort_hotel</td>\n",
       "      <td>5</td>\n",
       "      <td>2015-07-01</td>\n",
       "      <td>0</td>\n",
       "      <td>2</td>\n",
       "      <td>196.0</td>\n",
       "      <td>0</td>\n",
       "      <td>2</td>\n",
       "      <td>resort_hotel_2015-07-015</td>\n",
       "    </tr>\n",
       "    <tr>\n",
       "      <th>3</th>\n",
       "      <td>0</td>\n",
       "      <td>14</td>\n",
       "      <td>2015</td>\n",
       "      <td>7</td>\n",
       "      <td>27</td>\n",
       "      <td>1</td>\n",
       "      <td>0</td>\n",
       "      <td>2</td>\n",
       "      <td>2</td>\n",
       "      <td>0</td>\n",
       "      <td>...</td>\n",
       "      <td>2015-07-03</td>\n",
       "      <td>resort_hotel</td>\n",
       "      <td>6</td>\n",
       "      <td>2015-07-01</td>\n",
       "      <td>0</td>\n",
       "      <td>2</td>\n",
       "      <td>196.0</td>\n",
       "      <td>0</td>\n",
       "      <td>2</td>\n",
       "      <td>resort_hotel_2015-07-016</td>\n",
       "    </tr>\n",
       "    <tr>\n",
       "      <th>4</th>\n",
       "      <td>0</td>\n",
       "      <td>0</td>\n",
       "      <td>2015</td>\n",
       "      <td>7</td>\n",
       "      <td>27</td>\n",
       "      <td>1</td>\n",
       "      <td>0</td>\n",
       "      <td>2</td>\n",
       "      <td>2</td>\n",
       "      <td>0</td>\n",
       "      <td>...</td>\n",
       "      <td>2015-07-03</td>\n",
       "      <td>resort_hotel</td>\n",
       "      <td>7</td>\n",
       "      <td>2015-07-01</td>\n",
       "      <td>0</td>\n",
       "      <td>2</td>\n",
       "      <td>214.0</td>\n",
       "      <td>0</td>\n",
       "      <td>2</td>\n",
       "      <td>resort_hotel_2015-07-017</td>\n",
       "    </tr>\n",
       "  </tbody>\n",
       "</table>\n",
       "<p>5 rows × 40 columns</p>\n",
       "</div>"
      ],
      "text/plain": [
       "   is_canceled  lead_time  arrival_date_year  arrival_date_month  \\\n",
       "0            0          7               2015                   7   \n",
       "1            0         13               2015                   7   \n",
       "2            0         14               2015                   7   \n",
       "3            0         14               2015                   7   \n",
       "4            0          0               2015                   7   \n",
       "\n",
       "   arrival_date_week_number  arrival_date_day_of_month  \\\n",
       "0                        27                          1   \n",
       "1                        27                          1   \n",
       "2                        27                          1   \n",
       "3                        27                          1   \n",
       "4                        27                          1   \n",
       "\n",
       "   stays_in_weekend_nights  stays_in_week_nights  adults  children  ...  \\\n",
       "0                        0                     1       1         0  ...   \n",
       "1                        0                     1       1         0  ...   \n",
       "2                        0                     2       2         0  ...   \n",
       "3                        0                     2       2         0  ...   \n",
       "4                        0                     2       2         0  ...   \n",
       "\n",
       "   reservation_status_date    hotel_type record_number arrival_date is_family  \\\n",
       "0               2015-07-02  resort_hotel             3   2015-07-01         0   \n",
       "1               2015-07-02  resort_hotel             4   2015-07-01         0   \n",
       "2               2015-07-03  resort_hotel             5   2015-07-01         0   \n",
       "3               2015-07-03  resort_hotel             6   2015-07-01         0   \n",
       "4               2015-07-03  resort_hotel             7   2015-07-01         0   \n",
       "\n",
       "   total_stay_nights  total_rate  is_room_type_changed total_guests  \\\n",
       "0                  1        75.0                     1            1   \n",
       "1                  1        75.0                     0            1   \n",
       "2                  2       196.0                     0            2   \n",
       "3                  2       196.0                     0            2   \n",
       "4                  2       214.0                     0            2   \n",
       "\n",
       "                        uid  \n",
       "0  resort_hotel_2015-07-013  \n",
       "1  resort_hotel_2015-07-014  \n",
       "2  resort_hotel_2015-07-015  \n",
       "3  resort_hotel_2015-07-016  \n",
       "4  resort_hotel_2015-07-017  \n",
       "\n",
       "[5 rows x 40 columns]"
      ]
     },
     "execution_count": 68,
     "metadata": {},
     "output_type": "execute_result"
    }
   ],
   "source": [
    "expectation_suite_name = 'expectation-hotel-dataset'\n",
    "context.add_or_update_expectation_suite(expectation_suite_name)\n",
    "\n",
    "validator = context.get_validator(\n",
    "    batch_request = batch_request,\n",
    "    expectation_suite_name = expectation_suite_name\n",
    ")\n",
    "\n",
    "validator.head()"
   ]
  },
  {
   "cell_type": "markdown",
   "id": "50c5e36f",
   "metadata": {},
   "source": [
    "## Expectations"
   ]
  },
  {
   "cell_type": "markdown",
   "id": "21da35db",
   "metadata": {},
   "source": [
    "### 1. to be unique\n",
    "Column `uid` (consist of booking_id for each of the hotels) must be unique"
   ]
  },
  {
   "cell_type": "code",
   "execution_count": 69,
   "id": "d921e254",
   "metadata": {},
   "outputs": [
    {
     "data": {
      "application/vnd.jupyter.widget-view+json": {
       "model_id": "b7ba6c49272d43f3bbe075163afc5a21",
       "version_major": 2,
       "version_minor": 0
      },
      "text/plain": [
       "Calculating Metrics:   0%|          | 0/8 [00:00<?, ?it/s]"
      ]
     },
     "metadata": {},
     "output_type": "display_data"
    },
    {
     "data": {
      "text/plain": [
       "{\n",
       "  \"success\": true,\n",
       "  \"exception_info\": {\n",
       "    \"raised_exception\": false,\n",
       "    \"exception_traceback\": null,\n",
       "    \"exception_message\": null\n",
       "  },\n",
       "  \"result\": {\n",
       "    \"element_count\": 117481,\n",
       "    \"unexpected_count\": 0,\n",
       "    \"unexpected_percent\": 0.0,\n",
       "    \"partial_unexpected_list\": [],\n",
       "    \"missing_count\": 0,\n",
       "    \"missing_percent\": 0.0,\n",
       "    \"unexpected_percent_total\": 0.0,\n",
       "    \"unexpected_percent_nonmissing\": 0.0\n",
       "  },\n",
       "  \"meta\": {}\n",
       "}"
      ]
     },
     "execution_count": 69,
     "metadata": {},
     "output_type": "execute_result"
    }
   ],
   "source": [
    "validator.expect_column_values_to_be_unique('uid')"
   ]
  },
  {
   "cell_type": "markdown",
   "id": "7c99ee85",
   "metadata": {},
   "source": [
    "### 2. to be between min_value and max_value\n",
    "Total stay duration per booking `total_stay_nights` must be between 0 - 90 days (3 months) --> 0 days are for canceled & no show bookings"
   ]
  },
  {
   "cell_type": "code",
   "execution_count": 70,
   "id": "b56bf9c4",
   "metadata": {},
   "outputs": [
    {
     "data": {
      "application/vnd.jupyter.widget-view+json": {
       "model_id": "3fda7be0843d491d90c086414190c891",
       "version_major": 2,
       "version_minor": 0
      },
      "text/plain": [
       "Calculating Metrics:   0%|          | 0/8 [00:00<?, ?it/s]"
      ]
     },
     "metadata": {},
     "output_type": "display_data"
    },
    {
     "data": {
      "text/plain": [
       "{\n",
       "  \"success\": true,\n",
       "  \"exception_info\": {\n",
       "    \"raised_exception\": false,\n",
       "    \"exception_traceback\": null,\n",
       "    \"exception_message\": null\n",
       "  },\n",
       "  \"result\": {\n",
       "    \"element_count\": 117481,\n",
       "    \"unexpected_count\": 0,\n",
       "    \"unexpected_percent\": 0.0,\n",
       "    \"partial_unexpected_list\": [],\n",
       "    \"missing_count\": 0,\n",
       "    \"missing_percent\": 0.0,\n",
       "    \"unexpected_percent_total\": 0.0,\n",
       "    \"unexpected_percent_nonmissing\": 0.0\n",
       "  },\n",
       "  \"meta\": {}\n",
       "}"
      ]
     },
     "execution_count": 70,
     "metadata": {},
     "output_type": "execute_result"
    }
   ],
   "source": [
    "validator.expect_column_values_to_be_between(\n",
    "    column='total_stay_nights', min_value=0, max_value=90\n",
    ")"
   ]
  },
  {
   "cell_type": "markdown",
   "id": "2ccfd624",
   "metadata": {},
   "source": [
    "### 3. to be in set\n",
    "Value of `reservation_status` must be either ['Check-Out', 'Canceled', 'No-Show']"
   ]
  },
  {
   "cell_type": "code",
   "execution_count": 71,
   "id": "2e02102f",
   "metadata": {},
   "outputs": [
    {
     "data": {
      "application/vnd.jupyter.widget-view+json": {
       "model_id": "2cd5f608d618496887c0948f1972ccb3",
       "version_major": 2,
       "version_minor": 0
      },
      "text/plain": [
       "Calculating Metrics:   0%|          | 0/8 [00:00<?, ?it/s]"
      ]
     },
     "metadata": {},
     "output_type": "display_data"
    },
    {
     "data": {
      "text/plain": [
       "{\n",
       "  \"success\": true,\n",
       "  \"exception_info\": {\n",
       "    \"raised_exception\": false,\n",
       "    \"exception_traceback\": null,\n",
       "    \"exception_message\": null\n",
       "  },\n",
       "  \"result\": {\n",
       "    \"element_count\": 117481,\n",
       "    \"unexpected_count\": 0,\n",
       "    \"unexpected_percent\": 0.0,\n",
       "    \"partial_unexpected_list\": [],\n",
       "    \"missing_count\": 0,\n",
       "    \"missing_percent\": 0.0,\n",
       "    \"unexpected_percent_total\": 0.0,\n",
       "    \"unexpected_percent_nonmissing\": 0.0\n",
       "  },\n",
       "  \"meta\": {}\n",
       "}"
      ]
     },
     "execution_count": 71,
     "metadata": {},
     "output_type": "execute_result"
    }
   ],
   "source": [
    "validator.expect_column_values_to_be_in_set('reservation_status', ['Check-Out', 'Canceled', 'No-Show'])"
   ]
  },
  {
   "cell_type": "markdown",
   "id": "e768a618",
   "metadata": {},
   "source": [
    "### 4. to be in type list\n",
    "Value of `adr` must be either ['integer', 'float']"
   ]
  },
  {
   "cell_type": "code",
   "execution_count": 72,
   "id": "165025f2",
   "metadata": {},
   "outputs": [
    {
     "data": {
      "application/vnd.jupyter.widget-view+json": {
       "model_id": "dd0609300166446088052b945335d615",
       "version_major": 2,
       "version_minor": 0
      },
      "text/plain": [
       "Calculating Metrics:   0%|          | 0/1 [00:00<?, ?it/s]"
      ]
     },
     "metadata": {},
     "output_type": "display_data"
    },
    {
     "data": {
      "text/plain": [
       "{\n",
       "  \"success\": true,\n",
       "  \"exception_info\": {\n",
       "    \"raised_exception\": false,\n",
       "    \"exception_traceback\": null,\n",
       "    \"exception_message\": null\n",
       "  },\n",
       "  \"result\": {\n",
       "    \"observed_value\": \"float64\"\n",
       "  },\n",
       "  \"meta\": {}\n",
       "}"
      ]
     },
     "execution_count": 72,
     "metadata": {},
     "output_type": "execute_result"
    }
   ],
   "source": [
    "validator.expect_column_values_to_be_in_type_list('adr', ['integer', 'float'])"
   ]
  },
  {
   "cell_type": "markdown",
   "id": "4403103b",
   "metadata": {},
   "source": [
    "### 5. to be of type\n",
    "Value of `total_guests` must be an integer"
   ]
  },
  {
   "cell_type": "code",
   "execution_count": 73,
   "id": "3db510a2",
   "metadata": {},
   "outputs": [
    {
     "data": {
      "application/vnd.jupyter.widget-view+json": {
       "model_id": "66d9c75fb49148319eb62891763f8b6a",
       "version_major": 2,
       "version_minor": 0
      },
      "text/plain": [
       "Calculating Metrics:   0%|          | 0/1 [00:00<?, ?it/s]"
      ]
     },
     "metadata": {},
     "output_type": "display_data"
    },
    {
     "data": {
      "text/plain": [
       "{\n",
       "  \"success\": false,\n",
       "  \"exception_info\": {\n",
       "    \"raised_exception\": false,\n",
       "    \"exception_traceback\": null,\n",
       "    \"exception_message\": null\n",
       "  },\n",
       "  \"result\": {\n",
       "    \"observed_value\": \"int64\"\n",
       "  },\n",
       "  \"meta\": {}\n",
       "}"
      ]
     },
     "execution_count": 73,
     "metadata": {},
     "output_type": "execute_result"
    }
   ],
   "source": [
    "validator.expect_column_values_to_be_of_type('total_guests', 'int')"
   ]
  },
  {
   "cell_type": "markdown",
   "id": "ff820057",
   "metadata": {},
   "source": [
    "### 6. to match regex\n",
    "Value of `country` must only contain valid alphabets"
   ]
  },
  {
   "cell_type": "code",
   "execution_count": 74,
   "id": "f7f3d30d",
   "metadata": {},
   "outputs": [
    {
     "data": {
      "application/vnd.jupyter.widget-view+json": {
       "model_id": "c3f0efcce46b45369fe5b020d8e71cde",
       "version_major": 2,
       "version_minor": 0
      },
      "text/plain": [
       "Calculating Metrics:   0%|          | 0/8 [00:00<?, ?it/s]"
      ]
     },
     "metadata": {},
     "output_type": "display_data"
    },
    {
     "data": {
      "text/plain": [
       "{\n",
       "  \"success\": false,\n",
       "  \"exception_info\": {\n",
       "    \"raised_exception\": false,\n",
       "    \"exception_traceback\": null,\n",
       "    \"exception_message\": null\n",
       "  },\n",
       "  \"result\": {\n",
       "    \"element_count\": 117481,\n",
       "    \"unexpected_count\": 117481,\n",
       "    \"unexpected_percent\": 100.0,\n",
       "    \"partial_unexpected_list\": [\n",
       "      \"GBR\",\n",
       "      \"GBR\",\n",
       "      \"GBR\",\n",
       "      \"GBR\",\n",
       "      \"PRT\",\n",
       "      \"PRT\",\n",
       "      \"PRT\",\n",
       "      \"PRT\",\n",
       "      \"PRT\",\n",
       "      \"PRT\",\n",
       "      \"USA\",\n",
       "      \"ESP\",\n",
       "      \"PRT\",\n",
       "      \"IRL\",\n",
       "      \"PRT\",\n",
       "      \"IRL\",\n",
       "      \"FRA\",\n",
       "      \"GBR\",\n",
       "      \"GBR\",\n",
       "      \"PRT\"\n",
       "    ],\n",
       "    \"missing_count\": 0,\n",
       "    \"missing_percent\": 0.0,\n",
       "    \"unexpected_percent_total\": 100.0,\n",
       "    \"unexpected_percent_nonmissing\": 100.0\n",
       "  },\n",
       "  \"meta\": {}\n",
       "}"
      ]
     },
     "execution_count": 74,
     "metadata": {},
     "output_type": "execute_result"
    }
   ],
   "source": [
    "validator.expect_column_values_to_match_regex('country', r\"^[A-Z]$\")"
   ]
  },
  {
   "cell_type": "markdown",
   "id": "cc8f17e3",
   "metadata": {},
   "source": [
    "### 7. to equal length\n",
    "Character length of `meal` column must be 2"
   ]
  },
  {
   "cell_type": "code",
   "execution_count": 75,
   "id": "1f27cef6",
   "metadata": {},
   "outputs": [
    {
     "data": {
      "application/vnd.jupyter.widget-view+json": {
       "model_id": "3e7f8dfdfb6b4db28e946f26a0971c2d",
       "version_major": 2,
       "version_minor": 0
      },
      "text/plain": [
       "Calculating Metrics:   0%|          | 0/9 [00:00<?, ?it/s]"
      ]
     },
     "metadata": {},
     "output_type": "display_data"
    },
    {
     "data": {
      "text/plain": [
       "{\n",
       "  \"success\": true,\n",
       "  \"exception_info\": {\n",
       "    \"raised_exception\": false,\n",
       "    \"exception_traceback\": null,\n",
       "    \"exception_message\": null\n",
       "  },\n",
       "  \"result\": {\n",
       "    \"element_count\": 117481,\n",
       "    \"unexpected_count\": 0,\n",
       "    \"unexpected_percent\": 0.0,\n",
       "    \"partial_unexpected_list\": [],\n",
       "    \"missing_count\": 0,\n",
       "    \"missing_percent\": 0.0,\n",
       "    \"unexpected_percent_total\": 0.0,\n",
       "    \"unexpected_percent_nonmissing\": 0.0\n",
       "  },\n",
       "  \"meta\": {}\n",
       "}"
      ]
     },
     "execution_count": 75,
     "metadata": {},
     "output_type": "execute_result"
    }
   ],
   "source": [
    "validator.expect_column_value_lengths_to_equal('meal', 2)\n"
   ]
  }
 ],
 "metadata": {
  "kernelspec": {
   "display_name": "py10",
   "language": "python",
   "name": "python3"
  },
  "language_info": {
   "codemirror_mode": {
    "name": "ipython",
    "version": 3
   },
   "file_extension": ".py",
   "mimetype": "text/x-python",
   "name": "python",
   "nbconvert_exporter": "python",
   "pygments_lexer": "ipython3",
   "version": "3.10.16"
  }
 },
 "nbformat": 4,
 "nbformat_minor": 5
}
